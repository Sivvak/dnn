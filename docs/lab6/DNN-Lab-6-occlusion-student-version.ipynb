{
 "cells": [
  {
   "cell_type": "markdown",
   "metadata": {
    "id": "N7kJ7igKEtjW"
   },
   "source": [
    "# Saliency map\n",
    "\n",
    "In this task you have a trained classifier and you want to see what parts of the image are the most important ones for the classifier to predict selected class. One of the simplest method to do this is to occlude some parts of the image and see how big is the drop in the class probability compared to the probability for the original image.\n",
    "\n",
    "We want you to create a heatmap of those occlusions (2D np.array called `heatmap`). Take the original image and replace squares of size 20x20 centered at point (i,j) with a value of your choice. Then pass the image trough the network and calculate the drop in probability class. Do this on a grid with stride 10 ((0,0), (0,10), ..., (10,0), (10,10), ..., (220,220)), so your heatmap is a matrix with 23 rows and 23 columns.\n",
    "\n",
    "You have to write a code to calculate this heatmap, that runs under 2 minutes.\n"
   ]
  },
  {
   "cell_type": "markdown",
   "metadata": {
    "id": "fyzEytJjncyJ"
   },
   "source": [
    "###### Definitions\n"
   ]
  },
  {
   "cell_type": "code",
   "execution_count": 2,
   "metadata": {
    "id": "aLAXUumfTCkB"
   },
   "outputs": [],
   "source": [
    "from torchvision.models import mobilenet_v2, MobileNet_V2_Weights\n",
    "from PIL import Image\n",
    "import requests\n",
    "import numpy as np\n",
    "import torch\n",
    "from torchvision import transforms\n",
    "import matplotlib.pyplot as plt\n",
    "\n",
    "\n",
    "def get_image():\n",
    "    url = \"http://www.mimuw.edu.pl/~cygan/welonka.jpg\"\n",
    "    im = Image.open(requests.get(url, stream=True).raw)\n",
    "    normalize = transforms.Normalize(\n",
    "        mean=[0.485, 0.456, 0.406], std=[0.229, 0.224, 0.225]\n",
    "    )\n",
    "    size = 224\n",
    "    transformations = transforms.Compose(\n",
    "        [\n",
    "            transforms.Resize((size, size)),\n",
    "            transforms.ToTensor(),\n",
    "            normalize,\n",
    "        ]\n",
    "    )\n",
    "    img_tensor = transformations(im.convert(\"RGB\")).unsqueeze(0)\n",
    "    return img_tensor\n",
    "\n",
    "\n",
    "def get_model():\n",
    "    model = mobilenet_v2(weights=MobileNet_V2_Weights.IMAGENET1K_V1)\n",
    "    model.eval()\n",
    "    return model\n",
    "\n",
    "\n",
    "def plot_image(img_tensor):\n",
    "    img_tensor_c = img_tensor.clone()\n",
    "    img_tensor_c -= img_tensor_c.min()\n",
    "    img_tensor_c /= img_tensor_c.max()\n",
    "    plt.imshow(img_tensor_c[0].permute(1, 2, 0))\n",
    "    # plt.show()\n",
    "\n",
    "\n",
    "def plot_heatmap(heatmap):\n",
    "    plt.matshow(heatmap)\n",
    "    plt.colorbar()\n",
    "    plt.show()"
   ]
  },
  {
   "cell_type": "markdown",
   "metadata": {
    "id": "nCEw_JFGnia5"
   },
   "source": [
    "#Your code\n"
   ]
  },
  {
   "cell_type": "code",
   "execution_count": null,
   "metadata": {
    "id": "EYzuFrZNIpHk"
   },
   "outputs": [],
   "source": [
    "def generate_heatmap(model, img_tensor):\n",
    "    # YOUR CODE STARTS HERE\n",
    "    # first calculate probability for original image\n",
    "    output = model.forward(img_tensor)\n",
    "    probs = torch.softmax(output, dim=1)\n",
    "\n",
    "    goldfish_prob_baseline = probs[0, 1]\n",
    "    heatmap = np.zeros(img_tensor.shape[2:])\n",
    "\n",
    "    STEP_SIZE = 16\n",
    "\n",
    "    for i in range(0, img_tensor.shape[2], STEP_SIZE):\n",
    "        for j in range(0, img_tensor.shape[3], STEP_SIZE):\n",
    "            masked_imgs = torch.repeat_interleave(img_tensor, STEP_SIZE**2, 0)\n",
    "\n",
    "            for i_in in range(STEP_SIZE):\n",
    "                for j_in in range(STEP_SIZE):\n",
    "                    masked_imgs[i_in * STEP_SIZE + j_in, :, i + i_in, j + j_in] = 0\n",
    "\n",
    "            output = model.forward(masked_imgs)\n",
    "            probs = torch.softmax(output, dim=1)\n",
    "\n",
    "            for i_in in range(STEP_SIZE):\n",
    "                for j_in in range(STEP_SIZE):\n",
    "                    heatmap[i + i_in, j + j_in] = (\n",
    "                        goldfish_prob_baseline - probs[i_in * STEP_SIZE + j_in, 1]\n",
    "                    )\n",
    "\n",
    "    # YOUR CODE ENDS HERE\n",
    "    return heatmap"
   ]
  },
  {
   "cell_type": "markdown",
   "metadata": {
    "id": "tvZeJY1XnnWQ"
   },
   "source": [
    "#Test\n"
   ]
  },
  {
   "cell_type": "code",
   "execution_count": null,
   "metadata": {
    "colab": {
     "base_uri": "https://localhost:8080/",
     "height": 402,
     "referenced_widgets": [
      "aeca00020e884e99b9ff78022862d211",
      "9a733a4237e74306be0638cdc143b316",
      "02fe0c09ff8345e68ca73185dd3ac27e",
      "b15974b9d9d9427bb7e54c21ba165a07",
      "d912f0afd341409d9b819b0ee71eea4b",
      "dfad89e529c94df298036f76e773e4b9",
      "f74c67fd23574aebbdae9493fedcd7cd",
      "b608dfa318e0456dbaea6d4d2939f83e"
     ]
    },
    "id": "7zY06qqijR0l",
    "outputId": "13091203-c848-4e08-8754-821f4dce1156"
   },
   "outputs": [],
   "source": [
    "img_tensor = get_image()\n",
    "model = get_model()\n",
    "heatmap = generate_heatmap(model, img_tensor)\n",
    "\n",
    "plot_image(img_tensor)\n",
    "plot_heatmap(heatmap)"
   ]
  }
 ],
 "metadata": {
  "colab": {
   "collapsed_sections": [
    "fyzEytJjncyJ"
   ],
   "provenance": []
  },
  "kernelspec": {
   "display_name": ".venv",
   "language": "python",
   "name": "python3"
  },
  "language_info": {
   "codemirror_mode": {
    "name": "ipython",
    "version": 3
   },
   "file_extension": ".py",
   "mimetype": "text/x-python",
   "name": "python",
   "nbconvert_exporter": "python",
   "pygments_lexer": "ipython3",
   "version": "3.11.9"
  },
  "widgets": {
   "application/vnd.jupyter.widget-state+json": {
    "02fe0c09ff8345e68ca73185dd3ac27e": {
     "model_module": "@jupyter-widgets/controls",
     "model_module_version": "1.5.0",
     "model_name": "FloatProgressModel",
     "state": {
      "_dom_classes": [],
      "_model_module": "@jupyter-widgets/controls",
      "_model_module_version": "1.5.0",
      "_model_name": "FloatProgressModel",
      "_view_count": null,
      "_view_module": "@jupyter-widgets/controls",
      "_view_module_version": "1.5.0",
      "_view_name": "ProgressView",
      "bar_style": "success",
      "description": "100%",
      "description_tooltip": null,
      "layout": "IPY_MODEL_dfad89e529c94df298036f76e773e4b9",
      "max": 14212972,
      "min": 0,
      "orientation": "horizontal",
      "style": "IPY_MODEL_d912f0afd341409d9b819b0ee71eea4b",
      "value": 14212972
     }
    },
    "9a733a4237e74306be0638cdc143b316": {
     "model_module": "@jupyter-widgets/base",
     "model_module_version": "1.2.0",
     "model_name": "LayoutModel",
     "state": {
      "_model_module": "@jupyter-widgets/base",
      "_model_module_version": "1.2.0",
      "_model_name": "LayoutModel",
      "_view_count": null,
      "_view_module": "@jupyter-widgets/base",
      "_view_module_version": "1.2.0",
      "_view_name": "LayoutView",
      "align_content": null,
      "align_items": null,
      "align_self": null,
      "border": null,
      "bottom": null,
      "display": null,
      "flex": null,
      "flex_flow": null,
      "grid_area": null,
      "grid_auto_columns": null,
      "grid_auto_flow": null,
      "grid_auto_rows": null,
      "grid_column": null,
      "grid_gap": null,
      "grid_row": null,
      "grid_template_areas": null,
      "grid_template_columns": null,
      "grid_template_rows": null,
      "height": null,
      "justify_content": null,
      "justify_items": null,
      "left": null,
      "margin": null,
      "max_height": null,
      "max_width": null,
      "min_height": null,
      "min_width": null,
      "object_fit": null,
      "object_position": null,
      "order": null,
      "overflow": null,
      "overflow_x": null,
      "overflow_y": null,
      "padding": null,
      "right": null,
      "top": null,
      "visibility": null,
      "width": null
     }
    },
    "aeca00020e884e99b9ff78022862d211": {
     "model_module": "@jupyter-widgets/controls",
     "model_module_version": "1.5.0",
     "model_name": "HBoxModel",
     "state": {
      "_dom_classes": [],
      "_model_module": "@jupyter-widgets/controls",
      "_model_module_version": "1.5.0",
      "_model_name": "HBoxModel",
      "_view_count": null,
      "_view_module": "@jupyter-widgets/controls",
      "_view_module_version": "1.5.0",
      "_view_name": "HBoxView",
      "box_style": "",
      "children": [
       "IPY_MODEL_02fe0c09ff8345e68ca73185dd3ac27e",
       "IPY_MODEL_b15974b9d9d9427bb7e54c21ba165a07"
      ],
      "layout": "IPY_MODEL_9a733a4237e74306be0638cdc143b316"
     }
    },
    "b15974b9d9d9427bb7e54c21ba165a07": {
     "model_module": "@jupyter-widgets/controls",
     "model_module_version": "1.5.0",
     "model_name": "HTMLModel",
     "state": {
      "_dom_classes": [],
      "_model_module": "@jupyter-widgets/controls",
      "_model_module_version": "1.5.0",
      "_model_name": "HTMLModel",
      "_view_count": null,
      "_view_module": "@jupyter-widgets/controls",
      "_view_module_version": "1.5.0",
      "_view_name": "HTMLView",
      "description": "",
      "description_tooltip": null,
      "layout": "IPY_MODEL_b608dfa318e0456dbaea6d4d2939f83e",
      "placeholder": "​",
      "style": "IPY_MODEL_f74c67fd23574aebbdae9493fedcd7cd",
      "value": " 13.6M/13.6M [00:00&lt;00:00, 46.2MB/s]"
     }
    },
    "b608dfa318e0456dbaea6d4d2939f83e": {
     "model_module": "@jupyter-widgets/base",
     "model_module_version": "1.2.0",
     "model_name": "LayoutModel",
     "state": {
      "_model_module": "@jupyter-widgets/base",
      "_model_module_version": "1.2.0",
      "_model_name": "LayoutModel",
      "_view_count": null,
      "_view_module": "@jupyter-widgets/base",
      "_view_module_version": "1.2.0",
      "_view_name": "LayoutView",
      "align_content": null,
      "align_items": null,
      "align_self": null,
      "border": null,
      "bottom": null,
      "display": null,
      "flex": null,
      "flex_flow": null,
      "grid_area": null,
      "grid_auto_columns": null,
      "grid_auto_flow": null,
      "grid_auto_rows": null,
      "grid_column": null,
      "grid_gap": null,
      "grid_row": null,
      "grid_template_areas": null,
      "grid_template_columns": null,
      "grid_template_rows": null,
      "height": null,
      "justify_content": null,
      "justify_items": null,
      "left": null,
      "margin": null,
      "max_height": null,
      "max_width": null,
      "min_height": null,
      "min_width": null,
      "object_fit": null,
      "object_position": null,
      "order": null,
      "overflow": null,
      "overflow_x": null,
      "overflow_y": null,
      "padding": null,
      "right": null,
      "top": null,
      "visibility": null,
      "width": null
     }
    },
    "d912f0afd341409d9b819b0ee71eea4b": {
     "model_module": "@jupyter-widgets/controls",
     "model_module_version": "1.5.0",
     "model_name": "ProgressStyleModel",
     "state": {
      "_model_module": "@jupyter-widgets/controls",
      "_model_module_version": "1.5.0",
      "_model_name": "ProgressStyleModel",
      "_view_count": null,
      "_view_module": "@jupyter-widgets/base",
      "_view_module_version": "1.2.0",
      "_view_name": "StyleView",
      "bar_color": null,
      "description_width": "initial"
     }
    },
    "dfad89e529c94df298036f76e773e4b9": {
     "model_module": "@jupyter-widgets/base",
     "model_module_version": "1.2.0",
     "model_name": "LayoutModel",
     "state": {
      "_model_module": "@jupyter-widgets/base",
      "_model_module_version": "1.2.0",
      "_model_name": "LayoutModel",
      "_view_count": null,
      "_view_module": "@jupyter-widgets/base",
      "_view_module_version": "1.2.0",
      "_view_name": "LayoutView",
      "align_content": null,
      "align_items": null,
      "align_self": null,
      "border": null,
      "bottom": null,
      "display": null,
      "flex": null,
      "flex_flow": null,
      "grid_area": null,
      "grid_auto_columns": null,
      "grid_auto_flow": null,
      "grid_auto_rows": null,
      "grid_column": null,
      "grid_gap": null,
      "grid_row": null,
      "grid_template_areas": null,
      "grid_template_columns": null,
      "grid_template_rows": null,
      "height": null,
      "justify_content": null,
      "justify_items": null,
      "left": null,
      "margin": null,
      "max_height": null,
      "max_width": null,
      "min_height": null,
      "min_width": null,
      "object_fit": null,
      "object_position": null,
      "order": null,
      "overflow": null,
      "overflow_x": null,
      "overflow_y": null,
      "padding": null,
      "right": null,
      "top": null,
      "visibility": null,
      "width": null
     }
    },
    "f74c67fd23574aebbdae9493fedcd7cd": {
     "model_module": "@jupyter-widgets/controls",
     "model_module_version": "1.5.0",
     "model_name": "DescriptionStyleModel",
     "state": {
      "_model_module": "@jupyter-widgets/controls",
      "_model_module_version": "1.5.0",
      "_model_name": "DescriptionStyleModel",
      "_view_count": null,
      "_view_module": "@jupyter-widgets/base",
      "_view_module_version": "1.2.0",
      "_view_name": "StyleView",
      "description_width": ""
     }
    }
   }
  }
 },
 "nbformat": 4,
 "nbformat_minor": 0
}
