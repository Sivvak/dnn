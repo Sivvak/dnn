{
 "cells": [
  {
   "cell_type": "markdown",
   "metadata": {
    "id": "ncOobWEl-FCH",
    "jukit_cell_id": "93DLcyzFQp"
   },
   "source": [
    "<center><img src='https://drive.google.com/uc?id=1_utx_ZGclmCwNttSe40kYA6VHzNocdET' height=\"60\"></center>\n",
    "\n",
    "AI TECH - Akademia Innowacyjnych Zastosowań Technologii Cyfrowych. Program Operacyjny Polska Cyfrowa na lata 2014-2020\n",
    "\n",
    "<hr>\n",
    "\n",
    "<center><img src='https://drive.google.com/uc?id=1BXZ0u3562N_MqCLcekI-Ens77Kk4LpPm'></center>\n",
    "\n",
    "<center>\n",
    "Projekt współfinansowany ze środków Unii Europejskiej w ramach Europejskiego Funduszu Rozwoju Regionalnego\n",
    "Program Operacyjny Polska Cyfrowa na lata 2014-2020,\n",
    "Oś Priorytetowa nr 3 \"Cyfrowe kompetencje społeczeństwa\" Działanie  nr 3.2 \"Innowacyjne rozwiązania na rzecz aktywizacji cyfrowej\"\n",
    "Tytuł projektu:  „Akademia Innowacyjnych Zastosowań Technologii Cyfrowych (AI Tech)”\n",
    "    </center>\n"
   ]
  },
  {
   "cell_type": "markdown",
   "metadata": {
    "id": "oc4H7ifG-FCI",
    "jukit_cell_id": "pIHQKkr9FK"
   },
   "source": [
    "## Variational AutoEncoders\n",
    "\n",
    "In this lab excercise you will train a Variational AutoEncoder to learn the distribution of the MNIST data. You will explore the latent space and learn how to generate new samples.\n",
    "\n",
    "Some notation:\n",
    "\n",
    "- $P^*$ is the true data distribution. We have some samples from this.\n",
    "- $p(z)$ is a _prior_ distribution over the latent space. In our model it is multivariate gaussian distribution $N(0,\\mathbb{I})$.\n",
    "- $E(x)$ is the encoder that accepts data points as input and outputs distributions over the latent space $Z$. The produced distribution is denoted $q_\\phi(z|x)$ and is the (approximate) _posterior_ distribution. In our model this is mutlivariate gaussian distribution $q_\\phi(z|x) \\sim N(\\mu, diag(\\sigma^2)$. Notes:\n",
    "  1. $\\phi$ are weights of the encoder network.\n",
    "  2. Encoder network accepts data points as input and outputs $\\mu$ and $\\sigma$, which are vectors of the same length as latent space. They are used to construct the approximate posterior distribution $q_\\phi(z|x)$.\n",
    "- $D(z)$ is the decoder that accepts samples from the latent distribution and output parameters of the the likelihood distribution $p_\\theta(x|z)$. In our model this is Bernoulli trial per each pixel $p_\\theta(x|z_0) \\sim Bern(p)$. Notes:\n",
    "  1. $\\theta$ are weights of the decoder network.\n",
    "  2. Decoder network accepts sample from the posterior distribution $q_\\phi(z|x)$ and outputs p, which is a matrix of the shape of the input image. Each value of the matrix is the parameter $\\pi$ of the Bernoulli trial $Bern(\\pi)$ for the corresponding pixel.\n",
    "  3. Data points are clipped to only contain values 0 and 1 so that the model could be trained in the given setup.\n",
    "\n",
    "Loss:\n",
    "The loss that is used is called ELBO (the Evidence Lower Bound).\n",
    "\n",
    "$$ELBO = \\mathbb{E}_{z \\sim q(z|x)} \\big[\\log p_\\theta(x|z)\\big] - \\mathbb{KL}\\big(q_\\phi(z | x) || p(z)\\big).$$\n",
    "\n",
    "The following equation holds:\n",
    "\n",
    "$$\\log p_{\\theta}(x) = ELBO + \\mathbb{KL}(q_\\theta(z|x) || p(z|x))$$\n",
    "\n",
    "Maximization of ELBO is equivalent of minimization of KL-divergence between to variational posterior distribution and the true posterior distribution.\n",
    "\n",
    "The first term of the loss is trained via stochastic gradient descent. The second term can be calculated analytically in our setup and is equal to:\n",
    "\n",
    "$$ \\mathbb{KL}\\big( \\mathcal{N}(\\mu, \\sigma^2) || \\mathcal{N}(0, 1) \\big) = \\frac12 \\big(\\sigma^2 - \\log(\\sigma^2) + \\mu^2 - 1 \\big).$$\n"
   ]
  },
  {
   "cell_type": "markdown",
   "metadata": {
    "id": "qXUastP5-FCJ",
    "jukit_cell_id": "RtyXwx9fPx"
   },
   "source": [
    "Tasks for the tutorial:\n",
    "\n",
    "1. Run the pipeline and verify that VAE is training and generating decent digit representation.\n",
    "2. Play with training parameters and / or network layers to better learn hidden representation of the data\n",
    "3. Implement sample*latent method in the VariationalAutoEncoder class, which accepts original image as input and outputs samples from the posterior distribution $q*\\phi(z|x)$.\n",
    "4. Implement sample method in the VariationalAutoEncoder class, which accepts sample size and optionally samples from the prior distribution. as input and outputs samples:\n",
    "   1. If samples are not avialable, take a sample $z_0 \\sim p(z)$ from the prior distribution.\n",
    "   2. Decode the latent $p_\\theta(x|z_0) = D_\\theta(z_0)$.\n",
    "   3. Sample a reconstruction from the likelihood: $x_0 \\sim p_\\theta(x|z_0)$.\n",
    "5. Explore the latent space. For each class encode a sample (>=100) of images of that class and take one parameters from the posterior distribution $q_\\phi(z|x)$ per image. Visualize samples as scatter plot. Remember to color points according to image classes!\n",
    "6. Sample two points $z_0, z_1$ from the prior distibution $p(z)$. Perform interpolation i.e. visualize how samples change based on points from segment ended by $z_0$ and $z_1$.\n"
   ]
  },
  {
   "cell_type": "code",
   "execution_count": null,
   "metadata": {
    "id": "wY7V_y6e-FCJ",
    "jukit_cell_id": "pDhDmcelEe"
   },
   "outputs": [],
   "source": [
    "import torch\n",
    "import torch.nn as nn\n",
    "import torch.nn.functional as F\n",
    "import torch.optim as optim\n",
    "from torchvision import datasets, transforms  # type: ignore\n",
    "from torch.utils.data import DataLoader\n",
    "\n",
    "from collections import namedtuple\n",
    "import numpy as np\n",
    "import matplotlib.pyplot as plt"
   ]
  },
  {
   "cell_type": "code",
   "execution_count": 2,
   "metadata": {
    "id": "XefdMpOj-FCJ",
    "jukit_cell_id": "EiwAAcwFio"
   },
   "outputs": [],
   "source": [
    "batch_size = 1024\n",
    "test_batch_size = 1000\n",
    "epochs = 15\n",
    "lr = 5e-3\n",
    "seed = 1\n",
    "log_interval = 5\n",
    "latent_size = 200"
   ]
  },
  {
   "cell_type": "code",
   "execution_count": null,
   "metadata": {
    "id": "R0sfJjEh-FCK",
    "jukit_cell_id": "Z87FGYM0il"
   },
   "outputs": [],
   "source": [
    "use_cuda = torch.cuda.is_available()\n",
    "\n",
    "torch.manual_seed(seed)\n",
    "device = torch.device(\"cuda\" if use_cuda else \"cpu\")\n",
    "\n",
    "train_kwargs = {\"batch_size\": batch_size}\n",
    "test_kwargs = {\"batch_size\": test_batch_size}\n",
    "if use_cuda:\n",
    "    cuda_kwargs = {\"num_workers\": 1, \"pin_memory\": True, \"shuffle\": True}\n",
    "    train_kwargs.update(cuda_kwargs)\n",
    "    test_kwargs.update(cuda_kwargs)"
   ]
  },
  {
   "cell_type": "code",
   "execution_count": null,
   "metadata": {
    "id": "NZ5G3DxB-FCK",
    "jukit_cell_id": "xrVvSGrkSL"
   },
   "outputs": [],
   "source": [
    "def visualize_data(\n",
    "    images: np.ndarray, labels: np.ndarray, max_images: int, max_fig_size=(30, 30)\n",
    "):\n",
    "\n",
    "    (\n",
    "        num_frames,\n",
    "        num_channels,\n",
    "        h,\n",
    "        w,\n",
    "    ) = images.shape\n",
    "    num_frames = min(num_frames, max_images)\n",
    "    ff, axes = plt.subplots(\n",
    "        1, num_frames, figsize=max_fig_size, subplot_kw={\"xticks\": [], \"yticks\": []}\n",
    "    )\n",
    "    if num_frames == 1:\n",
    "        axes = [axes]\n",
    "\n",
    "    for i in range(0, num_frames):\n",
    "        if num_channels == 3:\n",
    "            axes[i].imshow(np.squeeze(images[i]))\n",
    "        else:\n",
    "            axes[i].imshow(np.squeeze(images[i]), cmap=\"gray\")\n",
    "        if labels is not None:\n",
    "            axes[i].set_title(labels[i].item(), fontsize=28)\n",
    "        plt.setp(axes[i].get_xticklabels(), visible=False)\n",
    "        plt.setp(axes[i].get_yticklabels(), visible=False)\n",
    "    ff.subplots_adjust(wspace=0.1)\n",
    "    plt.show()"
   ]
  },
  {
   "cell_type": "code",
   "execution_count": null,
   "metadata": {
    "id": "YymQPDD5-FCK",
    "jukit_cell_id": "ZR40BQxeGP"
   },
   "outputs": [
    {
     "name": "stdout",
     "output_type": "stream",
     "text": [
      "Downloading http://yann.lecun.com/exdb/mnist/train-images-idx3-ubyte.gz\n",
      "Failed to download (trying next):\n",
      "HTTP Error 403: Forbidden\n",
      "\n",
      "Downloading https://ossci-datasets.s3.amazonaws.com/mnist/train-images-idx3-ubyte.gz\n",
      "Downloading https://ossci-datasets.s3.amazonaws.com/mnist/train-images-idx3-ubyte.gz to ../data/MNIST/raw/train-images-idx3-ubyte.gz\n"
     ]
    },
    {
     "name": "stderr",
     "output_type": "stream",
     "text": [
      "100%|██████████| 9.91M/9.91M [00:01<00:00, 6.16MB/s]\n"
     ]
    },
    {
     "name": "stdout",
     "output_type": "stream",
     "text": [
      "Extracting ../data/MNIST/raw/train-images-idx3-ubyte.gz to ../data/MNIST/raw\n",
      "\n",
      "Downloading http://yann.lecun.com/exdb/mnist/train-labels-idx1-ubyte.gz\n",
      "Failed to download (trying next):\n",
      "HTTP Error 403: Forbidden\n",
      "\n",
      "Downloading https://ossci-datasets.s3.amazonaws.com/mnist/train-labels-idx1-ubyte.gz\n",
      "Downloading https://ossci-datasets.s3.amazonaws.com/mnist/train-labels-idx1-ubyte.gz to ../data/MNIST/raw/train-labels-idx1-ubyte.gz\n"
     ]
    },
    {
     "name": "stderr",
     "output_type": "stream",
     "text": [
      "100%|██████████| 28.9k/28.9k [00:00<00:00, 241kB/s]\n"
     ]
    },
    {
     "name": "stdout",
     "output_type": "stream",
     "text": [
      "Extracting ../data/MNIST/raw/train-labels-idx1-ubyte.gz to ../data/MNIST/raw\n",
      "\n",
      "Downloading http://yann.lecun.com/exdb/mnist/t10k-images-idx3-ubyte.gz\n",
      "Failed to download (trying next):\n",
      "HTTP Error 403: Forbidden\n",
      "\n",
      "Downloading https://ossci-datasets.s3.amazonaws.com/mnist/t10k-images-idx3-ubyte.gz\n",
      "Downloading https://ossci-datasets.s3.amazonaws.com/mnist/t10k-images-idx3-ubyte.gz to ../data/MNIST/raw/t10k-images-idx3-ubyte.gz\n"
     ]
    },
    {
     "name": "stderr",
     "output_type": "stream",
     "text": [
      "100%|██████████| 1.65M/1.65M [00:00<00:00, 2.39MB/s]\n"
     ]
    },
    {
     "name": "stdout",
     "output_type": "stream",
     "text": [
      "Extracting ../data/MNIST/raw/t10k-images-idx3-ubyte.gz to ../data/MNIST/raw\n",
      "\n",
      "Downloading http://yann.lecun.com/exdb/mnist/t10k-labels-idx1-ubyte.gz\n",
      "Failed to download (trying next):\n",
      "HTTP Error 403: Forbidden\n",
      "\n",
      "Downloading https://ossci-datasets.s3.amazonaws.com/mnist/t10k-labels-idx1-ubyte.gz\n",
      "Downloading https://ossci-datasets.s3.amazonaws.com/mnist/t10k-labels-idx1-ubyte.gz to ../data/MNIST/raw/t10k-labels-idx1-ubyte.gz\n"
     ]
    },
    {
     "name": "stderr",
     "output_type": "stream",
     "text": [
      "100%|██████████| 4.54k/4.54k [00:00<00:00, 1.94MB/s]"
     ]
    },
    {
     "name": "stdout",
     "output_type": "stream",
     "text": [
      "Extracting ../data/MNIST/raw/t10k-labels-idx1-ubyte.gz to ../data/MNIST/raw\n",
      "\n"
     ]
    },
    {
     "name": "stderr",
     "output_type": "stream",
     "text": [
      "\n"
     ]
    }
   ],
   "source": [
    "class Binarize:\n",
    "    def __call__(self, sample: torch.Tensor) -> torch.Tensor:\n",
    "        return torch.bernoulli(sample)\n",
    "\n",
    "\n",
    "transform = transforms.Compose([transforms.ToTensor(), Binarize()])\n",
    "dataset1 = datasets.MNIST(\"../data\", train=True, download=True, transform=transform)\n",
    "dataset2 = datasets.MNIST(\"../data\", train=False, transform=transform)\n",
    "train_loader = torch.utils.data.DataLoader(dataset1, **train_kwargs)\n",
    "test_loader = torch.utils.data.DataLoader(dataset2, **test_kwargs)"
   ]
  },
  {
   "cell_type": "code",
   "execution_count": 6,
   "metadata": {
    "id": "Eb_G_gyc-FCK",
    "jukit_cell_id": "D3EMM5HuMy"
   },
   "outputs": [
    {
     "data": {
      "image/png": "[encoded data removed]",
      "text/plain": [
       "<Figure size 3000x3000 with 8 Axes>"
      ]
     },
     "metadata": {},
     "output_type": "display_data"
    }
   ],
   "source": [
    "real_batch = next(iter(train_loader))\n",
    "visualize_data(real_batch[0], real_batch[1], 8)"
   ]
  },
  {
   "cell_type": "code",
   "execution_count": 7,
   "metadata": {
    "id": "V5uJu6vj-FCK",
    "jukit_cell_id": "lDWaCw7ncK"
   },
   "outputs": [],
   "source": [
    "EncoderOutput = namedtuple(\"EncoderOutput\", [\"mu\", \"sigma\"])\n",
    "\n",
    "\n",
    "class Encoder(nn.Module):\n",
    "    def __init__(self, linear_sizes: list[int], latent_size: int):\n",
    "        super().__init__()\n",
    "        self.layers = nn.ModuleList()\n",
    "        for in_layer_size, out_layer_size in zip(linear_sizes, linear_sizes[1:]):\n",
    "            self.layers.append(nn.Linear(in_layer_size, out_layer_size))\n",
    "            self.layers.append(nn.BatchNorm1d(out_layer_size))\n",
    "            self.layers.append(nn.ReLU())\n",
    "\n",
    "        self.last_layer_mu = nn.Linear(linear_sizes[-1], latent_size)\n",
    "        self.last_layer_sigma = nn.Linear(linear_sizes[-1], latent_size)\n",
    "\n",
    "    def forward(self, x: torch.Tensor) -> torch.Tensor:\n",
    "        x = nn.Flatten()(x)\n",
    "        for layer in self.layers:\n",
    "            x = layer(x)\n",
    "\n",
    "        mu = self.last_layer_mu(x)\n",
    "        logsigma = self.last_layer_sigma(x)\n",
    "        return EncoderOutput(mu, torch.log(1 + torch.exp(logsigma)))"
   ]
  },
  {
   "cell_type": "code",
   "execution_count": 8,
   "metadata": {
    "id": "lfsCDhcQ-FCK",
    "jukit_cell_id": "gOtr8l8qF4"
   },
   "outputs": [],
   "source": [
    "class Decoder(nn.Module):\n",
    "    def __init__(self, linear_sizes: list[int], output_size: tuple[int]):\n",
    "        super().__init__()\n",
    "        self.layers = nn.ModuleList()\n",
    "        for in_layer_size, out_layer_size in zip(linear_sizes, linear_sizes[1:]):\n",
    "            self.layers.append(nn.Linear(in_layer_size, out_layer_size))\n",
    "            self.layers.append(nn.BatchNorm1d(out_layer_size))\n",
    "            self.layers.append(nn.ReLU())\n",
    "\n",
    "        self.last_layer = nn.Sequential(\n",
    "            nn.Linear(linear_sizes[-1], output_size[0] * output_size[1]), nn.Sigmoid()\n",
    "        )\n",
    "        self.output_size = output_size\n",
    "\n",
    "    def forward(self, z: torch.Tensor) -> torch.Tensor:\n",
    "        for layer in self.layers:\n",
    "            z = layer(z)\n",
    "\n",
    "        x = self.last_layer(z)\n",
    "\n",
    "        x = x.view(-1, 1, *self.output_size)\n",
    "        return x"
   ]
  },
  {
   "cell_type": "code",
   "execution_count": 9,
   "metadata": {
    "id": "aaESKiTG-FCL",
    "jukit_cell_id": "bhd31Y9iWU"
   },
   "outputs": [],
   "source": [
    "VariationalAutoEncoderOutput = namedtuple(\n",
    "    \"VariationalAutoEncoderOutput\", [\"mu\", \"sigma\", \"p\"]\n",
    ")\n",
    "\n",
    "\n",
    "class VariationalAutoEncoder(nn.Module):\n",
    "    def __init__(\n",
    "        self,\n",
    "        encoder_linear_sizes: list[int],\n",
    "        latent_size: int,\n",
    "        decoder_linear_sizes: list[int],\n",
    "        output_size: tuple[int],\n",
    "    ):\n",
    "        super().__init__()\n",
    "        self.encoder = Encoder(encoder_linear_sizes, latent_size)\n",
    "        self.decoder = Decoder(decoder_linear_sizes, output_size)\n",
    "        self.latent_size = latent_size\n",
    "        self.output_size = output_size\n",
    "\n",
    "    def forward(self, x: torch.Tensor) -> torch.Tensor:\n",
    "        encoded = self.encoder(x)\n",
    "\n",
    "        z = torch.normal(0.0, 1.0, size=list(encoded.mu.size())).to(device)\n",
    "        z = (z * encoded.sigma) + encoded.mu\n",
    "\n",
    "        decoded = self.decoder(z)\n",
    "        return VariationalAutoEncoderOutput(encoded.mu, encoded.sigma, decoded)\n",
    "\n",
    "    def sample_latent(self, x: torch.Tensor) -> torch.Tensor:\n",
    "        # TODO: Task 3.\n",
    "        pass\n",
    "\n",
    "    def sample(self, sample_size: int, samples=None) -> torch.Tensor:\n",
    "        # TODO: Task 4.\n",
    "        pass"
   ]
  },
  {
   "cell_type": "code",
   "execution_count": 10,
   "metadata": {
    "id": "4_r1lpXa-FCL",
    "jukit_cell_id": "lvLfQuqbgf"
   },
   "outputs": [],
   "source": [
    "def KL_gaussian_loss(mu, sigma):\n",
    "    return torch.mean(((sigma * sigma) - (2 * torch.log(sigma)) + (mu * mu) - 1) / 2)\n",
    "\n",
    "\n",
    "def ELBO(x, p, mu, sigma):\n",
    "    BCE = F.binary_cross_entropy(p, x)\n",
    "    KL = KL_gaussian_loss(mu, sigma)\n",
    "    return BCE + KL"
   ]
  },
  {
   "cell_type": "code",
   "execution_count": 11,
   "metadata": {
    "id": "Zk9JPfZX-FCL",
    "jukit_cell_id": "yDxpIMfrnA"
   },
   "outputs": [],
   "source": [
    "def train(\n",
    "    model: nn.Module,\n",
    "    device: torch.device,\n",
    "    train_loader: DataLoader,\n",
    "    optimizer: optim.Optimizer,\n",
    "    epoch: int,\n",
    "    log_interval: int,\n",
    "):\n",
    "    model.train()\n",
    "    for batch_idx, (data, _) in enumerate(train_loader):\n",
    "        data = data.to(device)\n",
    "        optimizer.zero_grad()\n",
    "        output = model(data)\n",
    "        loss = ELBO(data, output.p, output.mu, output.sigma)\n",
    "        loss.backward()\n",
    "        optimizer.step()\n",
    "        if batch_idx % log_interval == 0:\n",
    "            print(\n",
    "                \"Train Epoch: {} [{}/{} ({:.0f}%)]\\tLoss: {:.6f}\".format(\n",
    "                    epoch,\n",
    "                    batch_idx * len(data),\n",
    "                    len(train_loader.dataset),\n",
    "                    100.0 * batch_idx / len(train_loader),\n",
    "                    loss.item(),\n",
    "                )\n",
    "            )\n",
    "\n",
    "\n",
    "def test(model: nn.Module, device: torch.device, test_loader: DataLoader):\n",
    "    model.eval()\n",
    "    test_loss = 0.0\n",
    "    with torch.no_grad():\n",
    "        for batch_idx, (data, _) in enumerate(test_loader):\n",
    "            data = data.to(device)\n",
    "            output = model(data)\n",
    "            loss = ELBO(data, output.p, output.mu, output.sigma)\n",
    "            test_loss = test_loss + (loss * data.size(0))\n",
    "\n",
    "    test_loss /= len(test_loader.dataset)\n",
    "\n",
    "    print(\"\\nTest set: Average loss: {:.4f}\\n\".format(test_loss))"
   ]
  },
  {
   "cell_type": "code",
   "execution_count": 12,
   "metadata": {
    "id": "m-WSVyBv-FCL",
    "jukit_cell_id": "8z8DaWFxZw"
   },
   "outputs": [],
   "source": [
    "vae = VariationalAutoEncoder(\n",
    "    [28 * 28, 500, 350], latent_size, [200, 350, 500], (28, 28)\n",
    ")\n",
    "vae.to(device)\n",
    "optimizer = optim.Adam(vae.parameters(), lr=lr)"
   ]
  },
  {
   "cell_type": "code",
   "execution_count": 13,
   "metadata": {
    "id": "and-7B8q-FCM",
    "jukit_cell_id": "0EgbJq8zsj"
   },
   "outputs": [
    {
     "name": "stdout",
     "output_type": "stream",
     "text": [
      "Train Epoch: 1 [0/60000 (0%)]\tLoss: 0.956458\n",
      "Train Epoch: 1 [5120/60000 (8%)]\tLoss: 0.368831\n",
      "Train Epoch: 1 [10240/60000 (17%)]\tLoss: 0.317644\n",
      "Train Epoch: 1 [15360/60000 (25%)]\tLoss: 0.281814\n",
      "Train Epoch: 1 [20480/60000 (34%)]\tLoss: 0.268469\n",
      "Train Epoch: 1 [25600/60000 (42%)]\tLoss: 0.250413\n",
      "Train Epoch: 1 [30720/60000 (51%)]\tLoss: 0.246372\n",
      "Train Epoch: 1 [35840/60000 (59%)]\tLoss: 0.255152\n",
      "Train Epoch: 1 [40960/60000 (68%)]\tLoss: 0.245408\n",
      "Train Epoch: 1 [46080/60000 (76%)]\tLoss: 0.243564\n",
      "Train Epoch: 1 [51200/60000 (85%)]\tLoss: 0.241577\n",
      "Train Epoch: 1 [56320/60000 (93%)]\tLoss: 0.235674\n",
      "\n",
      "Test set: Average loss: 0.2370\n",
      "\n",
      "Train Epoch: 2 [0/60000 (0%)]\tLoss: 0.233259\n",
      "Train Epoch: 2 [5120/60000 (8%)]\tLoss: 0.237965\n",
      "Train Epoch: 2 [10240/60000 (17%)]\tLoss: 0.233835\n",
      "Train Epoch: 2 [15360/60000 (25%)]\tLoss: 0.230951\n",
      "Train Epoch: 2 [20480/60000 (34%)]\tLoss: 0.233680\n",
      "Train Epoch: 2 [25600/60000 (42%)]\tLoss: 0.227408\n",
      "Train Epoch: 2 [30720/60000 (51%)]\tLoss: 0.227193\n",
      "Train Epoch: 2 [35840/60000 (59%)]\tLoss: 0.238420\n",
      "Train Epoch: 2 [40960/60000 (68%)]\tLoss: 0.232269\n",
      "Train Epoch: 2 [46080/60000 (76%)]\tLoss: 0.233047\n",
      "Train Epoch: 2 [51200/60000 (85%)]\tLoss: 0.231617\n",
      "Train Epoch: 2 [56320/60000 (93%)]\tLoss: 0.227446\n",
      "\n",
      "Test set: Average loss: 0.2281\n",
      "\n",
      "Train Epoch: 3 [0/60000 (0%)]\tLoss: 0.225721\n",
      "Train Epoch: 3 [5120/60000 (8%)]\tLoss: 0.227819\n",
      "Train Epoch: 3 [10240/60000 (17%)]\tLoss: 0.227956\n",
      "Train Epoch: 3 [15360/60000 (25%)]\tLoss: 0.225420\n",
      "Train Epoch: 3 [20480/60000 (34%)]\tLoss: 0.226823\n",
      "Train Epoch: 3 [25600/60000 (42%)]\tLoss: 0.222554\n",
      "Train Epoch: 3 [30720/60000 (51%)]\tLoss: 0.219730\n",
      "Train Epoch: 3 [35840/60000 (59%)]\tLoss: 0.230306\n",
      "Train Epoch: 3 [40960/60000 (68%)]\tLoss: 0.224220\n",
      "Train Epoch: 3 [46080/60000 (76%)]\tLoss: 0.224151\n",
      "Train Epoch: 3 [51200/60000 (85%)]\tLoss: 0.223672\n",
      "Train Epoch: 3 [56320/60000 (93%)]\tLoss: 0.216729\n",
      "\n",
      "Test set: Average loss: 0.2198\n",
      "\n",
      "Train Epoch: 4 [0/60000 (0%)]\tLoss: 0.216191\n",
      "Train Epoch: 4 [5120/60000 (8%)]\tLoss: 0.220024\n",
      "Train Epoch: 4 [10240/60000 (17%)]\tLoss: 0.217813\n",
      "Train Epoch: 4 [15360/60000 (25%)]\tLoss: 0.216681\n",
      "Train Epoch: 4 [20480/60000 (34%)]\tLoss: 0.217603\n",
      "Train Epoch: 4 [25600/60000 (42%)]\tLoss: 0.214403\n",
      "Train Epoch: 4 [30720/60000 (51%)]\tLoss: 0.212293\n",
      "Train Epoch: 4 [35840/60000 (59%)]\tLoss: 0.221337\n",
      "Train Epoch: 4 [40960/60000 (68%)]\tLoss: 0.214086\n",
      "Train Epoch: 4 [46080/60000 (76%)]\tLoss: 0.214580\n",
      "Train Epoch: 4 [51200/60000 (85%)]\tLoss: 0.213529\n",
      "Train Epoch: 4 [56320/60000 (93%)]\tLoss: 0.207881\n",
      "\n",
      "Test set: Average loss: 0.2091\n",
      "\n",
      "Train Epoch: 5 [0/60000 (0%)]\tLoss: 0.205678\n",
      "Train Epoch: 5 [5120/60000 (8%)]\tLoss: 0.208980\n",
      "Train Epoch: 5 [10240/60000 (17%)]\tLoss: 0.206761\n",
      "Train Epoch: 5 [15360/60000 (25%)]\tLoss: 0.207414\n",
      "Train Epoch: 5 [20480/60000 (34%)]\tLoss: 0.206998\n",
      "Train Epoch: 5 [25600/60000 (42%)]\tLoss: 0.205114\n",
      "Train Epoch: 5 [30720/60000 (51%)]\tLoss: 0.203325\n",
      "Train Epoch: 5 [35840/60000 (59%)]\tLoss: 0.212051\n",
      "Train Epoch: 5 [40960/60000 (68%)]\tLoss: 0.206794\n",
      "Train Epoch: 5 [46080/60000 (76%)]\tLoss: 0.207342\n",
      "Train Epoch: 5 [51200/60000 (85%)]\tLoss: 0.204945\n",
      "Train Epoch: 5 [56320/60000 (93%)]\tLoss: 0.202206\n",
      "\n",
      "Test set: Average loss: 0.2027\n",
      "\n",
      "Train Epoch: 6 [0/60000 (0%)]\tLoss: 0.199491\n",
      "Train Epoch: 6 [5120/60000 (8%)]\tLoss: 0.201639\n",
      "Train Epoch: 6 [10240/60000 (17%)]\tLoss: 0.200301\n",
      "Train Epoch: 6 [15360/60000 (25%)]\tLoss: 0.201895\n",
      "Train Epoch: 6 [20480/60000 (34%)]\tLoss: 0.203045\n",
      "Train Epoch: 6 [25600/60000 (42%)]\tLoss: 0.201737\n",
      "Train Epoch: 6 [30720/60000 (51%)]\tLoss: 0.200131\n",
      "Train Epoch: 6 [35840/60000 (59%)]\tLoss: 0.208808\n",
      "Train Epoch: 6 [40960/60000 (68%)]\tLoss: 0.202067\n",
      "Train Epoch: 6 [46080/60000 (76%)]\tLoss: 0.203646\n",
      "Train Epoch: 6 [51200/60000 (85%)]\tLoss: 0.200709\n",
      "Train Epoch: 6 [56320/60000 (93%)]\tLoss: 0.197459\n",
      "\n",
      "Test set: Average loss: 0.1991\n",
      "\n",
      "Train Epoch: 7 [0/60000 (0%)]\tLoss: 0.196874\n",
      "Train Epoch: 7 [5120/60000 (8%)]\tLoss: 0.199140\n",
      "Train Epoch: 7 [10240/60000 (17%)]\tLoss: 0.196409\n",
      "Train Epoch: 7 [15360/60000 (25%)]\tLoss: 0.197716\n",
      "Train Epoch: 7 [20480/60000 (34%)]\tLoss: 0.198001\n",
      "Train Epoch: 7 [25600/60000 (42%)]\tLoss: 0.197254\n",
      "Train Epoch: 7 [30720/60000 (51%)]\tLoss: 0.197264\n",
      "Train Epoch: 7 [35840/60000 (59%)]\tLoss: 0.204803\n",
      "Train Epoch: 7 [40960/60000 (68%)]\tLoss: 0.200137\n",
      "Train Epoch: 7 [46080/60000 (76%)]\tLoss: 0.201091\n",
      "Train Epoch: 7 [51200/60000 (85%)]\tLoss: 0.199045\n",
      "Train Epoch: 7 [56320/60000 (93%)]\tLoss: 0.194655\n",
      "\n",
      "Test set: Average loss: 0.1966\n",
      "\n",
      "Train Epoch: 8 [0/60000 (0%)]\tLoss: 0.193735\n",
      "Train Epoch: 8 [5120/60000 (8%)]\tLoss: 0.196436\n",
      "Train Epoch: 8 [10240/60000 (17%)]\tLoss: 0.192874\n",
      "Train Epoch: 8 [15360/60000 (25%)]\tLoss: 0.195761\n",
      "Train Epoch: 8 [20480/60000 (34%)]\tLoss: 0.197282\n",
      "Train Epoch: 8 [25600/60000 (42%)]\tLoss: 0.195524\n",
      "Train Epoch: 8 [30720/60000 (51%)]\tLoss: 0.193609\n",
      "Train Epoch: 8 [35840/60000 (59%)]\tLoss: 0.202031\n",
      "Train Epoch: 8 [40960/60000 (68%)]\tLoss: 0.197763\n",
      "Train Epoch: 8 [46080/60000 (76%)]\tLoss: 0.197742\n",
      "Train Epoch: 8 [51200/60000 (85%)]\tLoss: 0.195914\n",
      "Train Epoch: 8 [56320/60000 (93%)]\tLoss: 0.192925\n",
      "\n",
      "Test set: Average loss: 0.1938\n",
      "\n",
      "Train Epoch: 9 [0/60000 (0%)]\tLoss: 0.192308\n",
      "Train Epoch: 9 [5120/60000 (8%)]\tLoss: 0.195162\n",
      "Train Epoch: 9 [10240/60000 (17%)]\tLoss: 0.191912\n",
      "Train Epoch: 9 [15360/60000 (25%)]\tLoss: 0.194584\n",
      "Train Epoch: 9 [20480/60000 (34%)]\tLoss: 0.195062\n",
      "Train Epoch: 9 [25600/60000 (42%)]\tLoss: 0.193941\n",
      "Train Epoch: 9 [30720/60000 (51%)]\tLoss: 0.192609\n",
      "Train Epoch: 9 [35840/60000 (59%)]\tLoss: 0.200228\n",
      "Train Epoch: 9 [40960/60000 (68%)]\tLoss: 0.195681\n",
      "Train Epoch: 9 [46080/60000 (76%)]\tLoss: 0.195781\n",
      "Train Epoch: 9 [51200/60000 (85%)]\tLoss: 0.194275\n",
      "Train Epoch: 9 [56320/60000 (93%)]\tLoss: 0.191705\n",
      "\n",
      "Test set: Average loss: 0.1921\n",
      "\n",
      "Train Epoch: 10 [0/60000 (0%)]\tLoss: 0.190365\n",
      "Train Epoch: 10 [5120/60000 (8%)]\tLoss: 0.193577\n",
      "Train Epoch: 10 [10240/60000 (17%)]\tLoss: 0.190950\n",
      "Train Epoch: 10 [15360/60000 (25%)]\tLoss: 0.192472\n",
      "Train Epoch: 10 [20480/60000 (34%)]\tLoss: 0.193660\n",
      "Train Epoch: 10 [25600/60000 (42%)]\tLoss: 0.193265\n",
      "Train Epoch: 10 [30720/60000 (51%)]\tLoss: 0.192831\n",
      "Train Epoch: 10 [35840/60000 (59%)]\tLoss: 0.199583\n",
      "Train Epoch: 10 [40960/60000 (68%)]\tLoss: 0.194905\n",
      "Train Epoch: 10 [46080/60000 (76%)]\tLoss: 0.195363\n",
      "Train Epoch: 10 [51200/60000 (85%)]\tLoss: 0.193238\n",
      "Train Epoch: 10 [56320/60000 (93%)]\tLoss: 0.189949\n",
      "\n",
      "Test set: Average loss: 0.1915\n",
      "\n",
      "Train Epoch: 11 [0/60000 (0%)]\tLoss: 0.189799\n",
      "Train Epoch: 11 [5120/60000 (8%)]\tLoss: 0.192722\n",
      "Train Epoch: 11 [10240/60000 (17%)]\tLoss: 0.189213\n",
      "Train Epoch: 11 [15360/60000 (25%)]\tLoss: 0.191647\n",
      "Train Epoch: 11 [20480/60000 (34%)]\tLoss: 0.191545\n",
      "Train Epoch: 11 [25600/60000 (42%)]\tLoss: 0.191894\n",
      "Train Epoch: 11 [30720/60000 (51%)]\tLoss: 0.191221\n",
      "Train Epoch: 11 [35840/60000 (59%)]\tLoss: 0.197759\n",
      "Train Epoch: 11 [40960/60000 (68%)]\tLoss: 0.193893\n",
      "Train Epoch: 11 [46080/60000 (76%)]\tLoss: 0.193467\n",
      "Train Epoch: 11 [51200/60000 (85%)]\tLoss: 0.191587\n",
      "Train Epoch: 11 [56320/60000 (93%)]\tLoss: 0.189333\n",
      "\n",
      "Test set: Average loss: 0.1891\n",
      "\n",
      "Train Epoch: 12 [0/60000 (0%)]\tLoss: 0.188055\n",
      "Train Epoch: 12 [5120/60000 (8%)]\tLoss: 0.190491\n",
      "Train Epoch: 12 [10240/60000 (17%)]\tLoss: 0.186810\n",
      "Train Epoch: 12 [15360/60000 (25%)]\tLoss: 0.190025\n",
      "Train Epoch: 12 [20480/60000 (34%)]\tLoss: 0.190639\n",
      "Train Epoch: 12 [25600/60000 (42%)]\tLoss: 0.190353\n",
      "Train Epoch: 12 [30720/60000 (51%)]\tLoss: 0.189966\n",
      "Train Epoch: 12 [35840/60000 (59%)]\tLoss: 0.195703\n",
      "Train Epoch: 12 [40960/60000 (68%)]\tLoss: 0.192859\n",
      "Train Epoch: 12 [46080/60000 (76%)]\tLoss: 0.192971\n",
      "Train Epoch: 12 [51200/60000 (85%)]\tLoss: 0.190589\n",
      "Train Epoch: 12 [56320/60000 (93%)]\tLoss: 0.188980\n",
      "\n",
      "Test set: Average loss: 0.1884\n",
      "\n",
      "Train Epoch: 13 [0/60000 (0%)]\tLoss: 0.187675\n",
      "Train Epoch: 13 [5120/60000 (8%)]\tLoss: 0.188869\n",
      "Train Epoch: 13 [10240/60000 (17%)]\tLoss: 0.185903\n",
      "Train Epoch: 13 [15360/60000 (25%)]\tLoss: 0.187855\n",
      "Train Epoch: 13 [20480/60000 (34%)]\tLoss: 0.190265\n",
      "Train Epoch: 13 [25600/60000 (42%)]\tLoss: 0.189864\n",
      "Train Epoch: 13 [30720/60000 (51%)]\tLoss: 0.190001\n",
      "Train Epoch: 13 [35840/60000 (59%)]\tLoss: 0.195462\n",
      "Train Epoch: 13 [40960/60000 (68%)]\tLoss: 0.190910\n",
      "Train Epoch: 13 [46080/60000 (76%)]\tLoss: 0.192068\n",
      "Train Epoch: 13 [51200/60000 (85%)]\tLoss: 0.189926\n",
      "Train Epoch: 13 [56320/60000 (93%)]\tLoss: 0.188036\n",
      "\n",
      "Test set: Average loss: 0.1871\n",
      "\n",
      "Train Epoch: 14 [0/60000 (0%)]\tLoss: 0.186259\n",
      "Train Epoch: 14 [5120/60000 (8%)]\tLoss: 0.188415\n",
      "Train Epoch: 14 [10240/60000 (17%)]\tLoss: 0.186332\n",
      "Train Epoch: 14 [15360/60000 (25%)]\tLoss: 0.187678\n",
      "Train Epoch: 14 [20480/60000 (34%)]\tLoss: 0.188961\n",
      "Train Epoch: 14 [25600/60000 (42%)]\tLoss: 0.188365\n",
      "Train Epoch: 14 [30720/60000 (51%)]\tLoss: 0.188887\n",
      "Train Epoch: 14 [35840/60000 (59%)]\tLoss: 0.194350\n",
      "Train Epoch: 14 [40960/60000 (68%)]\tLoss: 0.191262\n",
      "Train Epoch: 14 [46080/60000 (76%)]\tLoss: 0.191462\n",
      "Train Epoch: 14 [51200/60000 (85%)]\tLoss: 0.189497\n",
      "Train Epoch: 14 [56320/60000 (93%)]\tLoss: 0.187021\n",
      "\n",
      "Test set: Average loss: 0.1870\n",
      "\n",
      "Train Epoch: 15 [0/60000 (0%)]\tLoss: 0.187177\n",
      "Train Epoch: 15 [5120/60000 (8%)]\tLoss: 0.187775\n",
      "Train Epoch: 15 [10240/60000 (17%)]\tLoss: 0.184924\n",
      "Train Epoch: 15 [15360/60000 (25%)]\tLoss: 0.186386\n",
      "Train Epoch: 15 [20480/60000 (34%)]\tLoss: 0.187764\n",
      "Train Epoch: 15 [25600/60000 (42%)]\tLoss: 0.187926\n",
      "Train Epoch: 15 [30720/60000 (51%)]\tLoss: 0.188570\n",
      "Train Epoch: 15 [35840/60000 (59%)]\tLoss: 0.195157\n",
      "Train Epoch: 15 [40960/60000 (68%)]\tLoss: 0.190636\n",
      "Train Epoch: 15 [46080/60000 (76%)]\tLoss: 0.189872\n",
      "Train Epoch: 15 [51200/60000 (85%)]\tLoss: 0.188413\n",
      "Train Epoch: 15 [56320/60000 (93%)]\tLoss: 0.186200\n",
      "\n",
      "Test set: Average loss: 0.1862\n",
      "\n"
     ]
    }
   ],
   "source": [
    "for epoch in range(1, epochs + 1):\n",
    "    train(vae, device, train_loader, optimizer, epoch, log_interval)\n",
    "    test(vae, device, test_loader)"
   ]
  },
  {
   "cell_type": "code",
   "execution_count": 14,
   "metadata": {
    "id": "p1644Gbj-FCM",
    "jukit_cell_id": "GZhv2SnWvs"
   },
   "outputs": [
    {
     "data": {
      "image/png": "[encoded data removed]",
      "text/plain": [
       "<Figure size 3000x3000 with 8 Axes>"
      ]
     },
     "metadata": {},
     "output_type": "display_data"
    }
   ],
   "source": [
    "vae.eval()\n",
    "visualize_data(\n",
    "    vae(real_batch[0].to(device)).p.detach().cpu().numpy(),\n",
    "    labels=real_batch[1].cpu().numpy(),\n",
    "    max_images=8,\n",
    ")"
   ]
  },
  {
   "cell_type": "code",
   "execution_count": 15,
   "metadata": {
    "id": "14ZTUm0P-FCM",
    "jukit_cell_id": "zR2QvB46U2"
   },
   "outputs": [
    {
     "data": {
      "image/png": "[encoded data removed]",
      "text/plain": [
       "<Figure size 3000x3000 with 8 Axes>"
      ]
     },
     "metadata": {},
     "output_type": "display_data"
    }
   ],
   "source": [
    "visualize_data(\n",
    "    torch.bernoulli(vae(real_batch[0].to(device)).p).detach().cpu().numpy(),\n",
    "    labels=real_batch[1].cpu().numpy(),\n",
    "    max_images=8,\n",
    ")"
   ]
  },
  {
   "cell_type": "markdown",
   "metadata": {
    "id": "cSZ7dwSN-FCM",
    "jukit_cell_id": "3u0aaKb096"
   },
   "source": [
    "Visualization of latent space\n"
   ]
  },
  {
   "cell_type": "code",
   "execution_count": null,
   "metadata": {
    "id": "t_MRrHCj-FCM",
    "jukit_cell_id": "ac2sV6BoJf"
   },
   "outputs": [],
   "source": [
    "# TODO\n",
    "# Task 5."
   ]
  },
  {
   "cell_type": "markdown",
   "metadata": {
    "id": "Ta0YPwc5-FCM",
    "jukit_cell_id": "GpGpgLNLS6"
   },
   "source": [
    "Sample interpolation\n"
   ]
  },
  {
   "cell_type": "code",
   "execution_count": null,
   "metadata": {
    "id": "xzC_7MUS-FCM",
    "jukit_cell_id": "oy0iwiaUEv"
   },
   "outputs": [],
   "source": [
    "# %%capture\n",
    "# TODO\n",
    "# Task 6."
   ]
  },
  {
   "cell_type": "code",
   "execution_count": null,
   "metadata": {
    "id": "aMyu71gY-FCM",
    "jukit_cell_id": "EwZ5GE7s8b"
   },
   "outputs": [],
   "source": []
  }
 ],
 "metadata": {
  "anaconda-cloud": {},
  "colab": {
   "provenance": []
  },
  "kernelspec": {
   "display_name": ".venv",
   "language": "python",
   "name": "python3"
  },
  "language_info": {
   "codemirror_mode": {
    "name": "ipython",
    "version": 3
   },
   "file_extension": ".py",
   "mimetype": "text/x-python",
   "name": "python",
   "nbconvert_exporter": "python",
   "pygments_lexer": "ipython3",
   "version": "3.11.9"
  }
 },
 "nbformat": 4,
 "nbformat_minor": 0
}
